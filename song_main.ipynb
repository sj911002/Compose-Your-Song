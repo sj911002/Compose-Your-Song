{
  "nbformat": 4,
  "nbformat_minor": 0,
  "metadata": {
    "colab": {
      "name": "song_main.ipynb",
      "provenance": [],
      "collapsed_sections": []
    },
    "kernelspec": {
      "name": "python3",
      "display_name": "Python 3"
    },
    "language_info": {
      "name": "python"
    },
    "accelerator": "GPU"
  },
  "cells": [
    {
      "cell_type": "markdown",
      "metadata": {
        "id": "Uw5XQ4SIjWvq"
      },
      "source": [
        "# Compose Your Song\n",
        "\n"
      ]
    },
    {
      "cell_type": "code",
      "metadata": {
        "colab": {
          "base_uri": "https://localhost:8080/"
        },
        "id": "m6Nx6hFozBbj",
        "outputId": "307beeaa-5a99-4b9e-db67-75d65916379e"
      },
      "source": [
        "import numpy as np\n",
        "import matplotlib.pyplot as plt\n",
        "import tensorflow as tf\n",
        "from tensorflow.keras.layers import Embedding, LSTM, Bidirectional, Dense, Dropout\n",
        "from tensorflow.keras.preprocessing.sequence import pad_sequences\n",
        "\n",
        "print(tf.__version__)"
      ],
      "execution_count": null,
      "outputs": [
        {
          "output_type": "stream",
          "text": [
            "2.6.0\n"
          ],
          "name": "stdout"
        }
      ]
    },
    {
      "cell_type": "markdown",
      "metadata": {
        "id": "jQTxO5QlWoNo"
      },
      "source": [
        "## Preparing the data"
      ]
    },
    {
      "cell_type": "code",
      "metadata": {
        "id": "hKiVu8nK1E9S",
        "colab": {
          "base_uri": "https://localhost:8080/"
        },
        "outputId": "600f36bc-cb3c-480f-ab02-db7560eb47ef"
      },
      "source": [
        "lyrics = open('/content/lyrics.txt', encoding='latin-1').read()\n",
        "#print(lyrics)\n",
        "\n",
        "# Splitting the data into sentences, while converting whole data into lowercase\n",
        "corpus = lyrics.lower().split(\"\\n\")\n",
        "corpus = list(set(corpus))   # This ensures no sentence appears twice    \n",
        "corpus[10:15]"
      ],
      "execution_count": null,
      "outputs": [
        {
          "output_type": "execute_result",
          "data": {
            "text/plain": [
              "['myself to you, body and soul!',\n",
              " \"before it's gone too far (gone too far)\",\n",
              " \"'cause you're the girl in my heart\",\n",
              " 'as one by one the lights go out',\n",
              " '(stop) oh yes, wait a minute, mister postman']"
            ]
          },
          "metadata": {},
          "execution_count": 2
        }
      ]
    },
    {
      "cell_type": "code",
      "metadata": {
        "id": "NQu7t0xbn0ze"
      },
      "source": [
        "tokenizer = tf.keras.preprocessing.text.Tokenizer()\n",
        "tokenizer.fit_on_texts(corpus)\n",
        "\n",
        "total_words = len(tokenizer.word_index) + 1\n",
        "\n",
        "# Creating input sequences using the list of tokens\n",
        "input_sequences = []\n",
        "for line in corpus:\n",
        "  token_list = tokenizer.texts_to_sequences([line])[0]\n",
        "  size = len(token_list)\n",
        "  for i in range(1, size):\n",
        "    n_gram_seq = token_list[:i+1]\n",
        "    input_sequences.append(n_gram_seq)\n",
        "\n",
        "#print(input_sequences)"
      ],
      "execution_count": null,
      "outputs": []
    },
    {
      "cell_type": "code",
      "metadata": {
        "id": "o1Zq0TKdn0vp"
      },
      "source": [
        "# Padding the sequences (input sequences must be of the same length)\n",
        "max_seq_len = max([len(seq) for seq in input_sequences])\n",
        "input_sequences = np.array(pad_sequences(sequences=input_sequences,\n",
        "                                         maxlen=max_seq_len,\n",
        "                                         padding='pre'))"
      ],
      "execution_count": null,
      "outputs": []
    },
    {
      "cell_type": "code",
      "metadata": {
        "id": "iXGffdAJn0sl"
      },
      "source": [
        "# Creating predictors and labels\n",
        "predictors, label = input_sequences[:, :-1], input_sequences[:, -1]\n",
        "#print(\"Predictors: \\n\", predictors)\n",
        "#print(\"\\nLabels: \\n\", label)\n",
        "\n",
        "# One-hot encoding the labels\n",
        "label = tf.keras.utils.to_categorical(y=label, num_classes=total_words)"
      ],
      "execution_count": null,
      "outputs": []
    },
    {
      "cell_type": "markdown",
      "metadata": {
        "id": "xl8LP397n0pG"
      },
      "source": [
        "## Building the model"
      ]
    },
    {
      "cell_type": "code",
      "metadata": {
        "id": "8n3n9KHeI2QW",
        "colab": {
          "base_uri": "https://localhost:8080/"
        },
        "outputId": "90f449c6-8d24-4d12-99f8-f7a39e8a2064"
      },
      "source": [
        "# Create the model\n",
        "model = tf.keras.models.Sequential([\n",
        "      Embedding(total_words, 100, input_length=max_seq_len-1), # the last words is a label\n",
        "      Bidirectional(LSTM(150, return_sequences=True)),\n",
        "      Dropout(0.2),  # to reduce overfitting\n",
        "      LSTM(100),\n",
        "      Dense(total_words/2, activation=\"relu\"),\n",
        "      Dense(total_words, activation=\"softmax\")\n",
        "])\n",
        "\n",
        "# Compile the model\n",
        "model.compile(loss=\"categorical_crossentropy\",\n",
        "              optimizer=tf.keras.optimizers.Adam(),\n",
        "              metrics=[\"accuracy\"])\n",
        "\n",
        "# View summary of the model\n",
        "model.summary()"
      ],
      "execution_count": null,
      "outputs": [
        {
          "output_type": "stream",
          "text": [
            "Model: \"sequential\"\n",
            "_________________________________________________________________\n",
            "Layer (type)                 Output Shape              Param #   \n",
            "=================================================================\n",
            "embedding (Embedding)        (None, 41, 100)           324700    \n",
            "_________________________________________________________________\n",
            "bidirectional (Bidirectional (None, 41, 300)           301200    \n",
            "_________________________________________________________________\n",
            "dropout (Dropout)            (None, 41, 300)           0         \n",
            "_________________________________________________________________\n",
            "lstm_1 (LSTM)                (None, 100)               160400    \n",
            "_________________________________________________________________\n",
            "dense (Dense)                (None, 1623)              163923    \n",
            "_________________________________________________________________\n",
            "dense_1 (Dense)              (None, 3247)              5273128   \n",
            "=================================================================\n",
            "Total params: 6,223,351\n",
            "Trainable params: 6,223,351\n",
            "Non-trainable params: 0\n",
            "_________________________________________________________________\n"
          ],
          "name": "stdout"
        }
      ]
    },
    {
      "cell_type": "code",
      "metadata": {
        "colab": {
          "base_uri": "https://localhost:8080/"
        },
        "id": "LkHM85Rmf5TD",
        "outputId": "a3c3801e-005c-40dd-d6aa-0bba80fe496e"
      },
      "source": [
        "# Fit the model\n",
        "history = model.fit(predictors,\n",
        "                    label,\n",
        "                    epochs=120)"
      ],
      "execution_count": null,
      "outputs": [
        {
          "output_type": "stream",
          "text": [
            "Epoch 1/120\n",
            "848/848 [==============================] - 23s 15ms/step - loss: 6.3030 - accuracy: 0.0412\n",
            "Epoch 2/120\n",
            "848/848 [==============================] - 13s 15ms/step - loss: 5.8900 - accuracy: 0.0483\n",
            "Epoch 3/120\n",
            "848/848 [==============================] - 13s 15ms/step - loss: 5.6271 - accuracy: 0.0650\n",
            "Epoch 4/120\n",
            "848/848 [==============================] - 13s 16ms/step - loss: 5.4038 - accuracy: 0.0824\n",
            "Epoch 5/120\n",
            "848/848 [==============================] - 13s 16ms/step - loss: 5.2130 - accuracy: 0.0972\n",
            "Epoch 6/120\n",
            "848/848 [==============================] - 13s 15ms/step - loss: 5.0406 - accuracy: 0.1067\n",
            "Epoch 7/120\n",
            "848/848 [==============================] - 13s 15ms/step - loss: 4.8732 - accuracy: 0.1187\n",
            "Epoch 8/120\n",
            "848/848 [==============================] - 13s 15ms/step - loss: 4.7025 - accuracy: 0.1318\n",
            "Epoch 9/120\n",
            "848/848 [==============================] - 13s 15ms/step - loss: 4.5316 - accuracy: 0.1427\n",
            "Epoch 10/120\n",
            "848/848 [==============================] - 13s 16ms/step - loss: 4.3687 - accuracy: 0.1540\n",
            "Epoch 11/120\n",
            "848/848 [==============================] - 13s 15ms/step - loss: 4.1980 - accuracy: 0.1654\n",
            "Epoch 12/120\n",
            "848/848 [==============================] - 13s 15ms/step - loss: 4.0334 - accuracy: 0.1784\n",
            "Epoch 13/120\n",
            "848/848 [==============================] - 13s 15ms/step - loss: 3.8731 - accuracy: 0.1916\n",
            "Epoch 14/120\n",
            "848/848 [==============================] - 13s 15ms/step - loss: 3.7137 - accuracy: 0.2064\n",
            "Epoch 15/120\n",
            "848/848 [==============================] - 14s 16ms/step - loss: 3.5540 - accuracy: 0.2235\n",
            "Epoch 16/120\n",
            "848/848 [==============================] - 13s 15ms/step - loss: 3.3993 - accuracy: 0.2419\n",
            "Epoch 17/120\n",
            "848/848 [==============================] - 13s 15ms/step - loss: 3.2530 - accuracy: 0.2588\n",
            "Epoch 18/120\n",
            "848/848 [==============================] - 13s 15ms/step - loss: 3.1154 - accuracy: 0.2795\n",
            "Epoch 19/120\n",
            "848/848 [==============================] - 13s 15ms/step - loss: 2.9782 - accuracy: 0.3002\n",
            "Epoch 20/120\n",
            "848/848 [==============================] - 13s 16ms/step - loss: 2.8433 - accuracy: 0.3247\n",
            "Epoch 21/120\n",
            "848/848 [==============================] - 13s 15ms/step - loss: 2.7357 - accuracy: 0.3387\n",
            "Epoch 22/120\n",
            "848/848 [==============================] - 13s 15ms/step - loss: 2.6144 - accuracy: 0.3635\n",
            "Epoch 23/120\n",
            "848/848 [==============================] - 13s 15ms/step - loss: 2.5141 - accuracy: 0.3783\n",
            "Epoch 24/120\n",
            "848/848 [==============================] - 13s 15ms/step - loss: 2.4118 - accuracy: 0.3994\n",
            "Epoch 25/120\n",
            "848/848 [==============================] - 13s 16ms/step - loss: 2.3158 - accuracy: 0.4175\n",
            "Epoch 26/120\n",
            "848/848 [==============================] - 13s 16ms/step - loss: 2.2222 - accuracy: 0.4322\n",
            "Epoch 27/120\n",
            "848/848 [==============================] - 13s 15ms/step - loss: 2.1378 - accuracy: 0.4537\n",
            "Epoch 28/120\n",
            "848/848 [==============================] - 13s 16ms/step - loss: 2.0556 - accuracy: 0.4706\n",
            "Epoch 29/120\n",
            "848/848 [==============================] - 13s 15ms/step - loss: 1.9782 - accuracy: 0.4868\n",
            "Epoch 30/120\n",
            "848/848 [==============================] - 13s 15ms/step - loss: 1.9160 - accuracy: 0.4982\n",
            "Epoch 31/120\n",
            "848/848 [==============================] - 13s 15ms/step - loss: 1.8388 - accuracy: 0.5189\n",
            "Epoch 32/120\n",
            "848/848 [==============================] - 13s 15ms/step - loss: 1.7836 - accuracy: 0.5295\n",
            "Epoch 33/120\n",
            "848/848 [==============================] - 13s 16ms/step - loss: 1.7236 - accuracy: 0.5404\n",
            "Epoch 34/120\n",
            "848/848 [==============================] - 13s 15ms/step - loss: 1.6606 - accuracy: 0.5592\n",
            "Epoch 35/120\n",
            "848/848 [==============================] - 13s 15ms/step - loss: 1.6061 - accuracy: 0.5697\n",
            "Epoch 36/120\n",
            "848/848 [==============================] - 12s 15ms/step - loss: 1.5542 - accuracy: 0.5801\n",
            "Epoch 37/120\n",
            "848/848 [==============================] - 13s 15ms/step - loss: 1.5074 - accuracy: 0.5937\n",
            "Epoch 38/120\n",
            "848/848 [==============================] - 14s 16ms/step - loss: 1.4656 - accuracy: 0.6033\n",
            "Epoch 39/120\n",
            "848/848 [==============================] - 13s 16ms/step - loss: 1.4238 - accuracy: 0.6111\n",
            "Epoch 40/120\n",
            "848/848 [==============================] - 13s 15ms/step - loss: 1.3889 - accuracy: 0.6229\n",
            "Epoch 41/120\n",
            "848/848 [==============================] - 13s 15ms/step - loss: 1.3508 - accuracy: 0.6303\n",
            "Epoch 42/120\n",
            "848/848 [==============================] - 13s 15ms/step - loss: 1.3149 - accuracy: 0.6427\n",
            "Epoch 43/120\n",
            "848/848 [==============================] - 13s 16ms/step - loss: 1.2834 - accuracy: 0.6474\n",
            "Epoch 44/120\n",
            "848/848 [==============================] - 13s 15ms/step - loss: 1.2515 - accuracy: 0.6561\n",
            "Epoch 45/120\n",
            "848/848 [==============================] - 12s 15ms/step - loss: 1.2277 - accuracy: 0.6593\n",
            "Epoch 46/120\n",
            "848/848 [==============================] - 13s 15ms/step - loss: 1.1939 - accuracy: 0.6684\n",
            "Epoch 47/120\n",
            "848/848 [==============================] - 13s 15ms/step - loss: 1.1749 - accuracy: 0.6727\n",
            "Epoch 48/120\n",
            "848/848 [==============================] - 13s 16ms/step - loss: 1.1452 - accuracy: 0.6823\n",
            "Epoch 49/120\n",
            "848/848 [==============================] - 13s 16ms/step - loss: 1.1273 - accuracy: 0.6865\n",
            "Epoch 50/120\n",
            "848/848 [==============================] - 13s 15ms/step - loss: 1.1069 - accuracy: 0.6891\n",
            "Epoch 51/120\n",
            "848/848 [==============================] - 13s 16ms/step - loss: 1.0877 - accuracy: 0.6947\n",
            "Epoch 52/120\n",
            "848/848 [==============================] - 13s 15ms/step - loss: 1.0645 - accuracy: 0.7044\n",
            "Epoch 53/120\n",
            "848/848 [==============================] - 13s 15ms/step - loss: 1.0546 - accuracy: 0.7017\n",
            "Epoch 54/120\n",
            "848/848 [==============================] - 13s 16ms/step - loss: 1.0363 - accuracy: 0.7063\n",
            "Epoch 55/120\n",
            "848/848 [==============================] - 13s 16ms/step - loss: 1.0260 - accuracy: 0.7124\n",
            "Epoch 56/120\n",
            "848/848 [==============================] - 14s 16ms/step - loss: 1.0218 - accuracy: 0.7127\n",
            "Epoch 57/120\n",
            "848/848 [==============================] - 13s 15ms/step - loss: 0.9893 - accuracy: 0.7216\n",
            "Epoch 58/120\n",
            "848/848 [==============================] - 13s 15ms/step - loss: 0.9820 - accuracy: 0.7229\n",
            "Epoch 59/120\n",
            "848/848 [==============================] - 13s 15ms/step - loss: 0.9688 - accuracy: 0.7249\n",
            "Epoch 60/120\n",
            "848/848 [==============================] - 13s 16ms/step - loss: 0.9546 - accuracy: 0.7274\n",
            "Epoch 61/120\n",
            "848/848 [==============================] - 14s 16ms/step - loss: 0.9553 - accuracy: 0.7312\n",
            "Epoch 62/120\n",
            "848/848 [==============================] - 13s 16ms/step - loss: 0.9475 - accuracy: 0.7305\n",
            "Epoch 63/120\n",
            "848/848 [==============================] - 13s 15ms/step - loss: 0.9322 - accuracy: 0.7329\n",
            "Epoch 64/120\n",
            "848/848 [==============================] - 13s 15ms/step - loss: 0.9246 - accuracy: 0.7351\n",
            "Epoch 65/120\n",
            "848/848 [==============================] - 13s 15ms/step - loss: 0.9137 - accuracy: 0.7400\n",
            "Epoch 66/120\n",
            "848/848 [==============================] - 13s 16ms/step - loss: 0.9157 - accuracy: 0.7380\n",
            "Epoch 67/120\n",
            "848/848 [==============================] - 13s 15ms/step - loss: 0.8940 - accuracy: 0.7433\n",
            "Epoch 68/120\n",
            "848/848 [==============================] - 13s 15ms/step - loss: 0.8933 - accuracy: 0.7431\n",
            "Epoch 69/120\n",
            "848/848 [==============================] - 13s 15ms/step - loss: 0.8851 - accuracy: 0.7454\n",
            "Epoch 70/120\n",
            "848/848 [==============================] - 13s 15ms/step - loss: 0.8844 - accuracy: 0.7473\n",
            "Epoch 71/120\n",
            "848/848 [==============================] - 14s 16ms/step - loss: 0.8802 - accuracy: 0.7460\n",
            "Epoch 72/120\n",
            "848/848 [==============================] - 13s 15ms/step - loss: 0.8694 - accuracy: 0.7497\n",
            "Epoch 73/120\n",
            "848/848 [==============================] - 13s 15ms/step - loss: 0.8638 - accuracy: 0.7514\n",
            "Epoch 74/120\n",
            "848/848 [==============================] - 13s 15ms/step - loss: 0.8474 - accuracy: 0.7560\n",
            "Epoch 75/120\n",
            "848/848 [==============================] - 13s 15ms/step - loss: 0.8540 - accuracy: 0.7516\n",
            "Epoch 76/120\n",
            "848/848 [==============================] - 13s 16ms/step - loss: 0.8518 - accuracy: 0.7511\n",
            "Epoch 77/120\n",
            "848/848 [==============================] - 13s 15ms/step - loss: 0.8481 - accuracy: 0.7529\n",
            "Epoch 78/120\n",
            "848/848 [==============================] - 13s 16ms/step - loss: 0.8435 - accuracy: 0.7568\n",
            "Epoch 79/120\n",
            "848/848 [==============================] - 14s 16ms/step - loss: 0.8314 - accuracy: 0.7580\n",
            "Epoch 80/120\n",
            "848/848 [==============================] - 13s 15ms/step - loss: 0.8307 - accuracy: 0.7563\n",
            "Epoch 81/120\n",
            "848/848 [==============================] - 13s 15ms/step - loss: 0.8211 - accuracy: 0.7620\n",
            "Epoch 82/120\n",
            "848/848 [==============================] - 13s 15ms/step - loss: 0.8251 - accuracy: 0.7602\n",
            "Epoch 83/120\n",
            "848/848 [==============================] - 13s 16ms/step - loss: 0.8269 - accuracy: 0.7585\n",
            "Epoch 84/120\n",
            "848/848 [==============================] - 13s 16ms/step - loss: 0.8163 - accuracy: 0.7611\n",
            "Epoch 85/120\n",
            "848/848 [==============================] - 13s 15ms/step - loss: 0.8148 - accuracy: 0.7612\n",
            "Epoch 86/120\n",
            "848/848 [==============================] - 13s 15ms/step - loss: 0.8032 - accuracy: 0.7647\n",
            "Epoch 87/120\n",
            "848/848 [==============================] - 13s 15ms/step - loss: 0.8073 - accuracy: 0.7627\n",
            "Epoch 88/120\n",
            "848/848 [==============================] - 13s 15ms/step - loss: 0.8077 - accuracy: 0.7619\n",
            "Epoch 89/120\n",
            "848/848 [==============================] - 13s 16ms/step - loss: 0.8015 - accuracy: 0.7640\n",
            "Epoch 90/120\n",
            "848/848 [==============================] - 13s 15ms/step - loss: 0.8061 - accuracy: 0.7616\n",
            "Epoch 91/120\n",
            "848/848 [==============================] - 13s 15ms/step - loss: 0.8026 - accuracy: 0.7637\n",
            "Epoch 92/120\n",
            "848/848 [==============================] - 13s 15ms/step - loss: 0.7883 - accuracy: 0.7685\n",
            "Epoch 93/120\n",
            "848/848 [==============================] - 13s 15ms/step - loss: 0.7900 - accuracy: 0.7664\n",
            "Epoch 94/120\n",
            "848/848 [==============================] - 14s 16ms/step - loss: 0.7960 - accuracy: 0.7651\n",
            "Epoch 95/120\n",
            "848/848 [==============================] - 13s 15ms/step - loss: 0.7844 - accuracy: 0.7671\n",
            "Epoch 96/120\n",
            "848/848 [==============================] - 13s 15ms/step - loss: 0.7782 - accuracy: 0.7698\n",
            "Epoch 97/120\n",
            "848/848 [==============================] - 13s 15ms/step - loss: 0.7725 - accuracy: 0.7697\n",
            "Epoch 98/120\n",
            "848/848 [==============================] - 13s 15ms/step - loss: 0.7743 - accuracy: 0.7723\n",
            "Epoch 99/120\n",
            "848/848 [==============================] - 14s 16ms/step - loss: 0.7756 - accuracy: 0.7695\n",
            "Epoch 100/120\n",
            "848/848 [==============================] - 13s 15ms/step - loss: 0.7832 - accuracy: 0.7679\n",
            "Epoch 101/120\n",
            "848/848 [==============================] - 13s 16ms/step - loss: 0.7709 - accuracy: 0.7690\n",
            "Epoch 102/120\n",
            "848/848 [==============================] - 14s 16ms/step - loss: 0.7763 - accuracy: 0.7676\n",
            "Epoch 103/120\n",
            "848/848 [==============================] - 13s 15ms/step - loss: 0.7711 - accuracy: 0.7714\n",
            "Epoch 104/120\n",
            "848/848 [==============================] - 13s 15ms/step - loss: 0.7719 - accuracy: 0.7674\n",
            "Epoch 105/120\n",
            "848/848 [==============================] - 13s 15ms/step - loss: 0.7727 - accuracy: 0.7693\n",
            "Epoch 106/120\n",
            "848/848 [==============================] - 13s 16ms/step - loss: 0.7609 - accuracy: 0.7712\n",
            "Epoch 107/120\n",
            "848/848 [==============================] - 13s 16ms/step - loss: 0.7597 - accuracy: 0.7736\n",
            "Epoch 108/120\n",
            "848/848 [==============================] - 13s 15ms/step - loss: 0.7659 - accuracy: 0.7698\n",
            "Epoch 109/120\n",
            "848/848 [==============================] - 13s 15ms/step - loss: 0.7602 - accuracy: 0.7729\n",
            "Epoch 110/120\n",
            "848/848 [==============================] - 13s 15ms/step - loss: 0.7590 - accuracy: 0.7722\n",
            "Epoch 111/120\n",
            "848/848 [==============================] - 13s 15ms/step - loss: 0.7562 - accuracy: 0.7701\n",
            "Epoch 112/120\n",
            "848/848 [==============================] - 13s 16ms/step - loss: 0.7621 - accuracy: 0.7689\n",
            "Epoch 113/120\n",
            "848/848 [==============================] - 13s 15ms/step - loss: 0.7533 - accuracy: 0.7717\n",
            "Epoch 114/120\n",
            "848/848 [==============================] - 13s 15ms/step - loss: 0.7467 - accuracy: 0.7746\n",
            "Epoch 115/120\n",
            "848/848 [==============================] - 13s 15ms/step - loss: 0.7521 - accuracy: 0.7728\n",
            "Epoch 116/120\n",
            "848/848 [==============================] - 13s 16ms/step - loss: 0.7481 - accuracy: 0.7744\n",
            "Epoch 117/120\n",
            "848/848 [==============================] - 14s 16ms/step - loss: 0.7504 - accuracy: 0.7744\n",
            "Epoch 118/120\n",
            "848/848 [==============================] - 13s 15ms/step - loss: 0.7506 - accuracy: 0.7725\n",
            "Epoch 119/120\n",
            "848/848 [==============================] - 13s 15ms/step - loss: 0.7434 - accuracy: 0.7751\n",
            "Epoch 120/120\n",
            "848/848 [==============================] - 13s 15ms/step - loss: 0.7406 - accuracy: 0.7757\n"
          ],
          "name": "stdout"
        }
      ]
    },
    {
      "cell_type": "markdown",
      "metadata": {
        "id": "wVX6D-cFllTq"
      },
      "source": [
        "## Evaluating the model"
      ]
    },
    {
      "cell_type": "code",
      "metadata": {
        "colab": {
          "base_uri": "https://localhost:8080/",
          "height": 573
        },
        "id": "LPDVn5wkjaS1",
        "outputId": "547cdf0c-b1bf-46c9-8b4c-71e6bd9142dd"
      },
      "source": [
        "def plot_curves(history):\n",
        "  \"\"\"\n",
        "  Returns seperate loss curves for training and validation metrics\n",
        "  \"\"\"\n",
        "  loss = history.history[\"loss\"]\n",
        "  accuracy = history.history[\"accuracy\"]\n",
        "\n",
        "  epochs = range(len(history.history[\"loss\"]))  # how many epochs did we run for\n",
        "  \n",
        "  # Plot loss\n",
        "  plt.plot(epochs, loss, label=\"training_loss\", c=\"purple\")\n",
        "  plt.title(\"Loss\")\n",
        "  plt.xlabel(\"epochs\")\n",
        "  plt.legend()\n",
        "\n",
        "  # Plot accuracy\n",
        "  plt.figure()\n",
        "  plt.plot(epochs, accuracy, label=\"training_accuracy\", c=\"green\")\n",
        "  plt.title(\"Accuracy\")\n",
        "  plt.xlabel(\"epochs\")\n",
        "  plt.legend()\n",
        "\n",
        "plot_curves(history)  "
      ],
      "execution_count": null,
      "outputs": [
        {
          "output_type": "display_data",
          "data": {
            "image/png": "[encoded data removed]",
            "text/plain": [
              "<Figure size 432x288 with 1 Axes>"
            ]
          },
          "metadata": {
            "tags": [],
            "needs_background": "light"
          }
        },
        {
          "output_type": "display_data",
          "data": {
            "image/png": "[encoded data removed]",
            "text/plain": [
              "<Figure size 432x288 with 1 Axes>"
            ]
          },
          "metadata": {
            "tags": [],
            "needs_background": "light"
          }
        }
      ]
    },
    {
      "cell_type": "markdown",
      "metadata": {
        "id": "omocnTyEl_cd"
      },
      "source": [
        "## Generating lyrics"
      ]
    },
    {
      "cell_type": "code",
      "metadata": {
        "id": "5VRMWufvmDP3"
      },
      "source": [
        "line = \"When I stay close\"\n",
        "num_words = 50\n",
        "\n",
        "while num_words:\n",
        "  token_list = tokenizer.texts_to_sequences([line])[0]\n",
        "  token_list = pad_sequences([token_list], maxlen=max_seq_len-1, padding='pre')\n",
        "  pred = model.predict_classes(token_list)\n",
        "  next_word = \"\"\n",
        "  for word, index in tokenizer.word_index.items():\n",
        "    if index == pred:\n",
        "      next_word = word\n",
        "      break\n",
        "  line += \" \" + next_word\n",
        "  num_words -= 1      \n",
        "print(line)\n"
      ],
      "execution_count": null,
      "outputs": []
    },
    {
      "cell_type": "markdown",
      "metadata": {
        "id": "iItj5vYVNiAR"
      },
      "source": [
        "#### **Lyrics Generated:** *When I stay close to the touch of your hand in my arms once again be blue i'm down to acapulco and away more than gold to see before this love have as to you all the way on the world looking on with regret it it not for it for me to take*\n"
      ]
    }
  ]
}